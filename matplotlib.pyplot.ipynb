{
 "cells": [
  {
   "cell_type": "code",
   "execution_count": 1,
   "metadata": {},
   "outputs": [],
   "source": [
    "from fractions import Fraction \n",
    "from matplotlib import pyplot as plt\n",
    "import numpy as np\n",
    "import math\n",
    "from numpy import prod\n",
    "from IPython.display import clear_output\n",
    "from numpy import poly1d"
   ]
  },
  {
   "cell_type": "code",
   "execution_count": 2,
   "metadata": {},
   "outputs": [],
   "source": [
    "class Val:\n",
    "    def root(self, n):\n",
    "        primfac = []\n",
    "        a=[]\n",
    "        d = 2\n",
    "        while d*d <= n:\n",
    "            while (n % d) == 0:\n",
    "                primfac.append(d)  \n",
    "                n //= d\n",
    "            d += 1\n",
    "        if n > 1:\n",
    "            primfac.append(n)\n",
    "        for x in primfac:\n",
    "            if primfac.count(x)%2==0:\n",
    "                a.append(x)\n",
    "        return x\n",
    "    def coeff_of_root(self, n):\n",
    "        primfac = []\n",
    "        a=[]\n",
    "        d = 2\n",
    "        while d*d <= n:\n",
    "            while (n % d) == 0:\n",
    "                primfac.append(d)  \n",
    "                n //= d\n",
    "            d += 1\n",
    "        if n > 1:\n",
    "            primfac.append(n)\n",
    "        for x in primfac:\n",
    "            if primfac.count(x)%2==0:\n",
    "                a.append(x)\n",
    "        return prod(a)/(2**(len(a)/2))\n",
    "root = Val()"
   ]
  },
  {
   "cell_type": "code",
   "execution_count": 3,
   "metadata": {},
   "outputs": [],
   "source": [
    "def find_gcd(x, y): \n",
    "    while(y): \n",
    "        x, y = y, x % y \n",
    "  \n",
    "    return x"
   ]
  },
  {
   "cell_type": "code",
   "execution_count": 4,
   "metadata": {},
   "outputs": [],
   "source": [
    "class Maths:   \n",
    "    def gcd(a,b,c):\n",
    "        num1=a \n",
    "        num2=b \n",
    "        gcd=find_gcd(num1,num2) \n",
    "        for i in range(2,3): \n",
    "            gcd=find_gcd(gcd,c) \n",
    "        return gcd \n",
    "maths=Maths"
   ]
  },
  {
   "cell_type": "code",
   "execution_count": 5,
   "metadata": {},
   "outputs": [],
   "source": [
    "def simplifyp(a,b,c,roots): \n",
    "    d=(a//maths.gcd(a,b,c))\n",
    "    e=(b//maths.gcd(a,b,c))\n",
    "    f=(c//maths.gcd(a,b,c))\n",
    "    return f'({d}+{e}√{roots})/{f}'\n",
    "def simplifyn(a,b,c,roots): \n",
    "    d=(a//maths.gcd(a,b,c))\n",
    "    e=(b//maths.gcd(a,b,c))\n",
    "    f=(c//maths.gcd(a,b,c))\n",
    "    return f'({d}-{e}√{roots})/{f}'"
   ]
  },
  {
   "cell_type": "code",
   "execution_count": 6,
   "metadata": {},
   "outputs": [],
   "source": [
    "def prime(num):\n",
    "    try:\n",
    "        if num > 1:\n",
    "            for i in range(2,num):\n",
    "                if (num % i) == 0:\n",
    "                    return False\n",
    "                    break\n",
    "            else:\n",
    "                return True\n",
    "        else:\n",
    "            return False\n",
    "    except TypeError:\n",
    "        return False"
   ]
  },
  {
   "cell_type": "code",
   "execution_count": 7,
   "metadata": {},
   "outputs": [],
   "source": [
    "\n",
    "\n",
    "def convert_float(x1):\n",
    "    a=x1.real\n",
    "    b=x1.imag\n",
    "    val=a+b\n",
    "    return val\n",
    "\n"
   ]
  },
  {
   "cell_type": "code",
   "execution_count": 8,
   "metadata": {},
   "outputs": [],
   "source": [
    "def convert_final(num):\n",
    "    return round(num*num)"
   ]
  },
  {
   "cell_type": "code",
   "execution_count": 9,
   "metadata": {},
   "outputs": [],
   "source": [
    "def check(num):\n",
    "    if '.0' in str(num) or '-' in str(num):\n",
    "        return False\n",
    "    else:\n",
    "        return True"
   ]
  },
  {
   "cell_type": "code",
   "execution_count": null,
   "metadata": {},
   "outputs": [],
   "source": []
  },
  {
   "cell_type": "code",
   "execution_count": 35,
   "metadata": {},
   "outputs": [
    {
     "name": "stdout",
     "output_type": "stream",
     "text": [
      "Write your equation in the form of ax**2+bx+c=0 and give the following values. \n",
      "Give the value of a. 5\n",
      "Give the value of b. -8\n",
      "Give the value of c. -9\n",
      "The values of x in \n",
      "\n",
      "   2\n",
      "5 x - 8 x - 9 are ((4+1√61)/5) and ((4-1√61)/5)\n",
      "Type Y if you want graph and N if you don't want graph: y\n"
     ]
    },
    {
     "data": {
      "image/png": "[encoded data removed]",
      "text/plain": [
       "<Figure size 432x288 with 1 Axes>"
      ]
     },
     "metadata": {
      "needs_background": "light"
     },
     "output_type": "display_data"
    },
    {
     "name": "stdout",
     "output_type": "stream",
     "text": [
      "Type Y if you want to calculate again type N to end. n\n"
     ]
    }
   ],
   "source": [
    "\n",
    "\n",
    "print('Write your equation in the form of ax**2+bx+c=0 and give the following values. ')\n",
    "def quad():\n",
    "    while True:\n",
    "        flag = True\n",
    "        while flag:\n",
    "            try:\n",
    "                a=int(input('Give the value of a. '))\n",
    "                if not a:\n",
    "                    print(\"Can't divide by 0!\")\n",
    "                    continue\n",
    "            except ValueError:\n",
    "                print(\"The given value must be a digit!\")\n",
    "                continue\n",
    "            while flag:\n",
    "                try:\n",
    "                    b=int(input('Give the value of b. '))\n",
    "                except ValueError:\n",
    "                    print(\"The given value must be a digit!\")\n",
    "                    continue\n",
    "                while flag:\n",
    "                    try:\n",
    "                        c=int(input('Give the value of c. '))\n",
    "                        flag = False\n",
    "                    except ValueError:\n",
    "                        print(\"The given value must be a digit!\")\n",
    "                        continue\n",
    "\n",
    "            g=poly1d([a,b,c])\n",
    "            x = ((-b)+(b**2 - 4*a*c)**0.5)/(2*a)\n",
    "            y = ((-b)-(b**2 - 4*a*c)**0.5)/(2*a)\n",
    "\n",
    "            d = (b**2 - 4*a*c)**0.5\n",
    "            divisor = 2*a\n",
    "            if check(d):\n",
    "                if prime(d)==False and not('j' in str(d)):\n",
    "                    print(f\"The values of x in \\n\\n{g} are ({simplifyp(-b,int(root.coeff_of_root(convert_final(convert_float(d)))),divisor,root.root(convert_final(convert_float(d))))}) and ({simplifyn(-b,int(root.coeff_of_root(convert_final(convert_float(d)))),divisor,root.root(convert_final(convert_float(d))))})\")\n",
    "                    \n",
    "                elif prime(d) and not'j' in str(d):\n",
    "                    print(f\"The values of x in \\n\\n{g} are (({-b}+√{convert_final(convert_float(d))})/{divisor}) and (({-b}-√{convert_final(convert_float(d))})/{divisor})\")\n",
    "                x = np.arange(-8,math.pi, 0.5)\n",
    "                y = x*a*x+x*b+c\n",
    "               \n",
    "                plt.plot(x,y)\n",
    "                plt.xlabel('X-Axis')\n",
    "                plt.ylabel('Y-axis')\n",
    "                plt.xticks(np.arange(-10, 11, 1)) \n",
    "                plt.yticks(np.arange(-10, 11, 1))\n",
    "                \n",
    "                #plt.axis('tight')\n",
    "                \n",
    "                plt.title(f'The graph for your equation is: ')\n",
    "                \n",
    "               \n",
    "                ax = plt.gca()\n",
    "                ax.set_xlim(-10,10)\n",
    "                ax.set_ylim(-10,10)\n",
    "                ax.spines['top'].set_color('none')\n",
    "                ax.spines['bottom'].set_position('zero')\n",
    "                ax.spines['left'].set_position('zero')\n",
    "                ax.spines['right'].set_color('none')\n",
    "                \n",
    "                \n",
    "                agn = input(\"Type Y if you want graph and N if you don't want graph: \")\n",
    "                if any(agn==x for x in ['y','Y']):\n",
    "                    plt.show()\n",
    "\n",
    "                global agn1\n",
    "                agn1 = input('Type Y if you want to calculate again type N to end. ')\n",
    "                \n",
    "                \n",
    "                \n",
    "            elif 'j' in str(d) or d<0:\n",
    "                print('There are no real roots')\n",
    "                agn1 = input('Type Y if you want to calculate again type N to end. ')\n",
    "                \n",
    "                \n",
    "            else:   \n",
    "                x1=Fraction(str(x)).limit_denominator(10)\n",
    "                y1=Fraction(str(y)).limit_denominator(10)\n",
    "\n",
    "                print(f'The values of x in \\n\\n{g} are ({x1}) and ({y1})')\n",
    "\n",
    "                x = np.arange(-8,x1+1,0.5)\n",
    "                y = x*a*x+x*b+c\n",
    "                plt.plot(x,y)\n",
    "                plt.xlabel('X-Axis')\n",
    "                plt.ylabel('Y-axis')\n",
    "                plt.title(f'The graph for your equation is: ')\n",
    "                plt.xticks(np.arange(-10, 11, 1)) \n",
    "                plt.yticks(np.arange(-10, 11, 1)) \n",
    "                \n",
    "                #plt.axis('tight')\n",
    "\n",
    "                \n",
    "                \n",
    "                ax = plt.gca()\n",
    "                ax.set_xlim(-10,10)\n",
    "                ax.set_ylim(-10,10)\n",
    "                \n",
    "                #ax.set_xlabel(\"X-axis\")\n",
    "                #ax.set_xlabel(\"Y-axis\")\n",
    "                ax.spines['top'].set_color('none')\n",
    "                ax.spines['bottom'].set_position('zero')\n",
    "                ax.spines['left'].set_position('zero')\n",
    "                ax.spines['right'].set_color('none')\n",
    "                \n",
    "                agn = input(\"Type Y if you want graph and N if you don't want graph: \").lower()\n",
    "                \n",
    "                if any(agn==x for x in ['y','Y']):\n",
    "                    plt.show()\n",
    "\n",
    "                agn1 = input('Type Y if you want to calculate again type N to end. ').lower()\n",
    "\n",
    "        if any(agn1==x for x in ['n','N']):\n",
    "            break\n",
    "        else:\n",
    "            clear_output()\n",
    "quad()\n",
    "\n"
   ]
  },
  {
   "cell_type": "code",
   "execution_count": null,
   "metadata": {},
   "outputs": [],
   "source": []
  }
 ],
 "metadata": {
  "kernelspec": {
   "display_name": "Python 3",
   "language": "python",
   "name": "python3"
  },
  "language_info": {
   "codemirror_mode": {
    "name": "ipython",
    "version": 3
   },
   "file_extension": ".py",
   "mimetype": "text/x-python",
   "name": "python",
   "nbconvert_exporter": "python",
   "pygments_lexer": "ipython3",
   "version": "3.6.9"
  }
 },
 "nbformat": 4,
 "nbformat_minor": 4
}
